{
 "cells": [
  {
   "cell_type": "code",
   "execution_count": 2,
   "metadata": {},
   "outputs": [
    {
     "data": {
      "text/html": [
       "<div>\n",
       "<style scoped>\n",
       "    .dataframe tbody tr th:only-of-type {\n",
       "        vertical-align: middle;\n",
       "    }\n",
       "\n",
       "    .dataframe tbody tr th {\n",
       "        vertical-align: top;\n",
       "    }\n",
       "\n",
       "    .dataframe thead th {\n",
       "        text-align: right;\n",
       "    }\n",
       "</style>\n",
       "<table border=\"1\" class=\"dataframe\">\n",
       "  <thead>\n",
       "    <tr style=\"text-align: right;\">\n",
       "      <th></th>\n",
       "      <th>Survived</th>\n",
       "      <th>Pclass</th>\n",
       "      <th>Age</th>\n",
       "      <th>Fare</th>\n",
       "    </tr>\n",
       "  </thead>\n",
       "  <tbody>\n",
       "    <tr>\n",
       "      <th>0</th>\n",
       "      <td>0</td>\n",
       "      <td>3</td>\n",
       "      <td>22.0</td>\n",
       "      <td>7.2500</td>\n",
       "    </tr>\n",
       "    <tr>\n",
       "      <th>1</th>\n",
       "      <td>1</td>\n",
       "      <td>1</td>\n",
       "      <td>38.0</td>\n",
       "      <td>71.2833</td>\n",
       "    </tr>\n",
       "    <tr>\n",
       "      <th>2</th>\n",
       "      <td>1</td>\n",
       "      <td>3</td>\n",
       "      <td>26.0</td>\n",
       "      <td>7.9250</td>\n",
       "    </tr>\n",
       "    <tr>\n",
       "      <th>3</th>\n",
       "      <td>1</td>\n",
       "      <td>1</td>\n",
       "      <td>35.0</td>\n",
       "      <td>53.1000</td>\n",
       "    </tr>\n",
       "    <tr>\n",
       "      <th>4</th>\n",
       "      <td>0</td>\n",
       "      <td>3</td>\n",
       "      <td>35.0</td>\n",
       "      <td>8.0500</td>\n",
       "    </tr>\n",
       "  </tbody>\n",
       "</table>\n",
       "</div>"
      ],
      "text/plain": [
       "   Survived  Pclass   Age     Fare\n",
       "0         0       3  22.0   7.2500\n",
       "1         1       1  38.0  71.2833\n",
       "2         1       3  26.0   7.9250\n",
       "3         1       1  35.0  53.1000\n",
       "4         0       3  35.0   8.0500"
      ]
     },
     "execution_count": 2,
     "metadata": {},
     "output_type": "execute_result"
    }
   ],
   "source": [
    "import pandas as pd\n",
    "data=pd.read_csv('titanic_train.csv',usecols=['Pclass','Age','Fare','Survived'])\n",
    "data.head()"
   ]
  },
  {
   "cell_type": "code",
   "execution_count": 3,
   "metadata": {},
   "outputs": [
    {
     "name": "stdout",
     "output_type": "stream",
     "text": [
      "0      0\n",
      "1      1\n",
      "2      1\n",
      "3      1\n",
      "4      0\n",
      "      ..\n",
      "886    0\n",
      "887    1\n",
      "888    0\n",
      "889    1\n",
      "890    0\n",
      "Name: Survived, Length: 891, dtype: int64\n"
     ]
    }
   ],
   "source": [
    "print(data['Survived'])"
   ]
  },
  {
   "cell_type": "code",
   "execution_count": 4,
   "metadata": {},
   "outputs": [
    {
     "data": {
      "text/plain": [
       "177"
      ]
     },
     "execution_count": 4,
     "metadata": {},
     "output_type": "execute_result"
    }
   ],
   "source": [
    "data['Age'].isnull().sum()"
   ]
  },
  {
   "cell_type": "code",
   "execution_count": 5,
   "metadata": {},
   "outputs": [
    {
     "name": "stdout",
     "output_type": "stream",
     "text": [
      "0\n",
      "0\n",
      "177\n",
      "0\n"
     ]
    }
   ],
   "source": [
    "for feature in data.columns:\n",
    "    nulls=data[feature].isnull().sum()\n",
    "    print(nulls)"
   ]
  },
  {
   "cell_type": "code",
   "execution_count": 6,
   "metadata": {},
   "outputs": [
    {
     "data": {
      "text/plain": [
       "0"
      ]
     },
     "execution_count": 6,
     "metadata": {},
     "output_type": "execute_result"
    }
   ],
   "source": [
    "data['Age'].fillna(data['Age'].median(),inplace=True)\n",
    "data['Age'].isnull().sum()"
   ]
  },
  {
   "cell_type": "code",
   "execution_count": 7,
   "metadata": {},
   "outputs": [],
   "source": [
    "y=data.iloc[:,0]\n",
    "x=data.iloc[:,1:]"
   ]
  },
  {
   "cell_type": "code",
   "execution_count": 8,
   "metadata": {},
   "outputs": [
    {
     "data": {
      "text/html": [
       "<div>\n",
       "<style scoped>\n",
       "    .dataframe tbody tr th:only-of-type {\n",
       "        vertical-align: middle;\n",
       "    }\n",
       "\n",
       "    .dataframe tbody tr th {\n",
       "        vertical-align: top;\n",
       "    }\n",
       "\n",
       "    .dataframe thead th {\n",
       "        text-align: right;\n",
       "    }\n",
       "</style>\n",
       "<table border=\"1\" class=\"dataframe\">\n",
       "  <thead>\n",
       "    <tr style=\"text-align: right;\">\n",
       "      <th></th>\n",
       "      <th>Pclass</th>\n",
       "      <th>Age</th>\n",
       "      <th>Fare</th>\n",
       "    </tr>\n",
       "  </thead>\n",
       "  <tbody>\n",
       "    <tr>\n",
       "      <th>0</th>\n",
       "      <td>3</td>\n",
       "      <td>22.0</td>\n",
       "      <td>7.2500</td>\n",
       "    </tr>\n",
       "    <tr>\n",
       "      <th>1</th>\n",
       "      <td>1</td>\n",
       "      <td>38.0</td>\n",
       "      <td>71.2833</td>\n",
       "    </tr>\n",
       "    <tr>\n",
       "      <th>2</th>\n",
       "      <td>3</td>\n",
       "      <td>26.0</td>\n",
       "      <td>7.9250</td>\n",
       "    </tr>\n",
       "    <tr>\n",
       "      <th>3</th>\n",
       "      <td>1</td>\n",
       "      <td>35.0</td>\n",
       "      <td>53.1000</td>\n",
       "    </tr>\n",
       "    <tr>\n",
       "      <th>4</th>\n",
       "      <td>3</td>\n",
       "      <td>35.0</td>\n",
       "      <td>8.0500</td>\n",
       "    </tr>\n",
       "  </tbody>\n",
       "</table>\n",
       "</div>"
      ],
      "text/plain": [
       "   Pclass   Age     Fare\n",
       "0       3  22.0   7.2500\n",
       "1       1  38.0  71.2833\n",
       "2       3  26.0   7.9250\n",
       "3       1  35.0  53.1000\n",
       "4       3  35.0   8.0500"
      ]
     },
     "execution_count": 8,
     "metadata": {},
     "output_type": "execute_result"
    }
   ],
   "source": [
    "x.head()\n"
   ]
  },
  {
   "cell_type": "code",
   "execution_count": 9,
   "metadata": {},
   "outputs": [],
   "source": [
    "from sklearn.model_selection import train_test_split\n",
    "xtrain,xtest,ytrain,ytest=train_test_split(x,y,test_size=0.33,random_state=0)"
   ]
  },
  {
   "cell_type": "code",
   "execution_count": 10,
   "metadata": {},
   "outputs": [
    {
     "data": {
      "text/html": [
       "<div>\n",
       "<style scoped>\n",
       "    .dataframe tbody tr th:only-of-type {\n",
       "        vertical-align: middle;\n",
       "    }\n",
       "\n",
       "    .dataframe tbody tr th {\n",
       "        vertical-align: top;\n",
       "    }\n",
       "\n",
       "    .dataframe thead th {\n",
       "        text-align: right;\n",
       "    }\n",
       "</style>\n",
       "<table border=\"1\" class=\"dataframe\">\n",
       "  <thead>\n",
       "    <tr style=\"text-align: right;\">\n",
       "      <th></th>\n",
       "      <th>Pclass</th>\n",
       "      <th>Age</th>\n",
       "      <th>Fare</th>\n",
       "    </tr>\n",
       "  </thead>\n",
       "  <tbody>\n",
       "    <tr>\n",
       "      <th>242</th>\n",
       "      <td>2</td>\n",
       "      <td>29.0</td>\n",
       "      <td>10.5000</td>\n",
       "    </tr>\n",
       "    <tr>\n",
       "      <th>344</th>\n",
       "      <td>2</td>\n",
       "      <td>36.0</td>\n",
       "      <td>13.0000</td>\n",
       "    </tr>\n",
       "    <tr>\n",
       "      <th>170</th>\n",
       "      <td>1</td>\n",
       "      <td>61.0</td>\n",
       "      <td>33.5000</td>\n",
       "    </tr>\n",
       "    <tr>\n",
       "      <th>187</th>\n",
       "      <td>1</td>\n",
       "      <td>45.0</td>\n",
       "      <td>26.5500</td>\n",
       "    </tr>\n",
       "    <tr>\n",
       "      <th>800</th>\n",
       "      <td>2</td>\n",
       "      <td>34.0</td>\n",
       "      <td>13.0000</td>\n",
       "    </tr>\n",
       "    <tr>\n",
       "      <th>...</th>\n",
       "      <td>...</td>\n",
       "      <td>...</td>\n",
       "      <td>...</td>\n",
       "    </tr>\n",
       "    <tr>\n",
       "      <th>835</th>\n",
       "      <td>1</td>\n",
       "      <td>39.0</td>\n",
       "      <td>83.1583</td>\n",
       "    </tr>\n",
       "    <tr>\n",
       "      <th>192</th>\n",
       "      <td>3</td>\n",
       "      <td>19.0</td>\n",
       "      <td>7.8542</td>\n",
       "    </tr>\n",
       "    <tr>\n",
       "      <th>629</th>\n",
       "      <td>3</td>\n",
       "      <td>28.0</td>\n",
       "      <td>7.7333</td>\n",
       "    </tr>\n",
       "    <tr>\n",
       "      <th>559</th>\n",
       "      <td>3</td>\n",
       "      <td>36.0</td>\n",
       "      <td>17.4000</td>\n",
       "    </tr>\n",
       "    <tr>\n",
       "      <th>684</th>\n",
       "      <td>2</td>\n",
       "      <td>60.0</td>\n",
       "      <td>39.0000</td>\n",
       "    </tr>\n",
       "  </tbody>\n",
       "</table>\n",
       "<p>596 rows × 3 columns</p>\n",
       "</div>"
      ],
      "text/plain": [
       "     Pclass   Age     Fare\n",
       "242       2  29.0  10.5000\n",
       "344       2  36.0  13.0000\n",
       "170       1  61.0  33.5000\n",
       "187       1  45.0  26.5500\n",
       "800       2  34.0  13.0000\n",
       "..      ...   ...      ...\n",
       "835       1  39.0  83.1583\n",
       "192       3  19.0   7.8542\n",
       "629       3  28.0   7.7333\n",
       "559       3  36.0  17.4000\n",
       "684       2  60.0  39.0000\n",
       "\n",
       "[596 rows x 3 columns]"
      ]
     },
     "execution_count": 10,
     "metadata": {},
     "output_type": "execute_result"
    }
   ],
   "source": [
    "xtrain"
   ]
  },
  {
   "cell_type": "markdown",
   "metadata": {},
   "source": [
    "### STANDARDIZATION TRANSFORMATION\n"
   ]
  },
  {
   "cell_type": "code",
   "execution_count": 11,
   "metadata": {},
   "outputs": [
    {
     "name": "stderr",
     "output_type": "stream",
     "text": [
      "G:\\ANACONDA_INSTALLATION\\lib\\site-packages\\sklearn\\preprocessing\\data.py:645: DataConversionWarning: Data with input dtype int64, float64 were all converted to float64 by StandardScaler.\n",
      "  return self.partial_fit(X, y)\n",
      "G:\\ANACONDA_INSTALLATION\\lib\\site-packages\\sklearn\\base.py:464: DataConversionWarning: Data with input dtype int64, float64 were all converted to float64 by StandardScaler.\n",
      "  return self.fit(X, **fit_params).transform(X)\n"
     ]
    },
    {
     "data": {
      "text/plain": [
       "array([[-0.34363182, -0.03598323, -0.45510318],\n",
       "       [-0.34363182,  0.50499701, -0.4033367 ],\n",
       "       [-1.53435605,  2.43706929,  0.02114842],\n",
       "       ...,\n",
       "       [ 0.8470924 , -0.11326612, -0.51239211],\n",
       "       [ 0.8470924 ,  0.50499701, -0.3122277 ],\n",
       "       [-0.34363182,  2.3597864 ,  0.13503467]])"
      ]
     },
     "execution_count": 11,
     "metadata": {},
     "output_type": "execute_result"
    }
   ],
   "source": [
    "from sklearn.preprocessing import StandardScaler\n",
    "scaler=StandardScaler()\n",
    "xtrain_scaled=scaler.fit_transform(xtrain)\n",
    "xtrain_scaled"
   ]
  },
  {
   "cell_type": "code",
   "execution_count": 12,
   "metadata": {},
   "outputs": [
    {
     "name": "stderr",
     "output_type": "stream",
     "text": [
      "G:\\ANACONDA_INSTALLATION\\lib\\site-packages\\ipykernel_launcher.py:1: DataConversionWarning: Data with input dtype int64, float64 were all converted to float64 by StandardScaler.\n",
      "  \"\"\"Entry point for launching an IPython kernel.\n"
     ]
    },
    {
     "data": {
      "text/plain": [
       "array([[ 8.47092403e-01, -1.13266116e-01, -3.73140283e-01],\n",
       "       [ 8.47092403e-01, -1.13266116e-01, -5.16187627e-01],\n",
       "       [ 8.47092403e-01, -1.73620683e+00, -6.94429204e-02],\n",
       "       [-1.53435605e+00, -1.13266116e-01,  2.36142393e+00],\n",
       "       [ 8.47092403e-01, -3.59832253e-02, -3.56833842e-01],\n",
       "       [-1.53435605e+00, -1.13266116e-01, -4.09713574e-02],\n",
       "       [-1.53435605e+00,  8.14128577e-01,  2.50516287e+00],\n",
       "       [-1.53435605e+00,  1.18582557e-01,  2.74130498e+00],\n",
       "       [-1.53435605e+00, -3.45114790e-01,  1.21341738e+00],\n",
       "       [ 8.47092403e-01, -1.13266116e-01, -5.22830301e-01],\n",
       "       [ 8.47092403e-01, -2.67831899e-01, -5.09888682e-01],\n",
       "       [-3.43631824e-01,  8.14128577e-01, -4.03336705e-01],\n",
       "       [ 8.47092403e-01, -1.13266116e-01, -5.12046309e-01],\n",
       "       [-3.43631824e-01, -1.73620683e+00, -1.28974370e-01],\n",
       "       [-1.53435605e+00, -4.22397681e-01,  1.04940254e+00],\n",
       "       [ 8.47092403e-01, -1.19522659e+00, -5.09888682e-01],\n",
       "       [ 8.47092403e-01, -4.99680572e-01, -4.81504087e-01],\n",
       "       [-3.43631824e-01, -8.08812136e-01,  8.84448380e-02],\n",
       "       [ 8.47092403e-01,  4.27714121e-01, -5.05834331e-01],\n",
       "       [ 8.47092403e-01, -2.24472825e+00, -4.96170565e-01],\n",
       "       [-3.43631824e-01, -8.86095027e-01, -4.34396592e-01],\n",
       "       [-1.53435605e+00, -5.76963463e-01,  2.46556152e+00],\n",
       "       [ 8.47092403e-01, -1.13266116e-01, -5.12305141e-01],\n",
       "       [-1.53435605e+00, -1.13266116e-01, -3.06180618e-02],\n",
       "       [ 8.47092403e-01, -5.76963463e-01, -4.68821299e-01],\n",
       "       [-1.53435605e+00,  8.14128577e-01,  2.11251413e+00],\n",
       "       [ 8.47092403e-01,  1.95865448e-01, -5.09027288e-01],\n",
       "       [ 8.47092403e-01, -5.76963463e-01, -5.12046309e-01],\n",
       "       [-3.43631824e-01, -3.45114790e-01, -1.34151018e-01],\n",
       "       [ 8.47092403e-01, -2.12262128e+00, -9.48084947e-02],\n",
       "       [ 8.47092403e-01,  2.73148339e-01, -4.93151544e-01],\n",
       "       [-3.43631824e-01,  1.58695749e+00, -4.55103183e-01],\n",
       "       [ 8.47092403e-01, -1.13266116e-01, -4.75809774e-01],\n",
       "       [-1.53435605e+00, -1.13266116e-01,  6.25615990e-02],\n",
       "       [ 8.47092403e-01, -3.59832253e-02, -5.26627890e-01],\n",
       "       [-1.53435605e+00,  1.95865448e-01, -4.09713574e-02],\n",
       "       [ 8.47092403e-01,  1.04597725e+00, -5.38964877e-01],\n",
       "       [-3.43631824e-01, -1.13266116e-01, -4.55103183e-01],\n",
       "       [-3.43631824e-01, -3.45114790e-01, -4.03336705e-01],\n",
       "       [-3.43631824e-01,  1.89608905e+00, -3.82630113e-01],\n",
       "       [-1.53435605e+00,  2.35978640e+00,  9.67439637e-01],\n",
       "       [ 8.47092403e-01, -3.45114790e-01, -5.22917269e-01],\n",
       "       [ 8.47092403e-01, -1.13266116e-01, -3.72276818e-01],\n",
       "       [ 8.47092403e-01, -1.19522659e+00,  1.49270450e-01],\n",
       "       [-1.53435605e+00,  4.27714121e-01,  1.05596032e+00],\n",
       "       [ 8.47092403e-01, -1.13266116e-01, -5.09027288e-01],\n",
       "       [ 8.47092403e-01, -1.13266116e-01, -5.09027288e-01],\n",
       "       [-1.53435605e+00, -8.86095027e-01,  4.76036949e+00],\n",
       "       [-3.43631824e-01,  7.36845686e-01, -4.03336705e-01],\n",
       "       [-1.53435605e+00,  1.74152327e+00,  9.76757604e-01],\n",
       "       [-1.53435605e+00, -1.13266116e-01, -5.13246530e-02],\n",
       "       [-1.53435605e+00, -4.99680572e-01,  6.39412031e-01],\n",
       "       [-3.43631824e-01, -1.96805550e+00, -1.96270792e-01],\n",
       "       [ 8.47092403e-01, -8.08812136e-01, -5.09027288e-01],\n",
       "       [-1.53435605e+00, -1.13266116e-01, -5.75366304e-02],\n",
       "       [-3.43631824e-01, -4.22397681e-01,  8.49412067e-01],\n",
       "       [-1.53435605e+00,  2.51435218e+00, -1.22762393e-01],\n",
       "       [ 8.47092403e-01, -1.42707526e+00, -2.49237492e-02],\n",
       "       [ 8.47092403e-01, -1.50435816e+00, -9.48084947e-02],\n",
       "       [ 8.47092403e-01, -1.13266116e-01, -1.91094144e-01],\n",
       "       [ 8.47092403e-01, -5.76963463e-01, -5.22830301e-01],\n",
       "       [ 8.47092403e-01, -3.59832253e-02, -2.36130980e-01],\n",
       "       [-1.53435605e+00,  1.89608905e+00,  9.48114176e-01],\n",
       "       [-1.53435605e+00, -1.13266116e-01,  1.47458623e-01],\n",
       "       [ 8.47092403e-01, -1.90549007e-01, -4.41989699e-01],\n",
       "       [ 8.47092403e-01,  1.95865448e-01, -5.12046309e-01],\n",
       "       [-1.53435605e+00,  1.50967460e+00, -1.35617045e-01],\n",
       "       [-3.43631824e-01, -1.13266116e-01,  1.07951208e-02],\n",
       "       [-3.43631824e-01, -2.12262128e+00, -1.34151018e-01],\n",
       "       [-1.53435605e+00, -8.08812136e-01, -5.13246530e-02],\n",
       "       [-3.43631824e-01, -4.22397681e-01, -1.34151018e-01],\n",
       "       [-1.53435605e+00,  1.43239171e+00,  4.04220355e-01],\n",
       "       [-1.53435605e+00, -1.13266116e-01,  1.02895478e+00],\n",
       "       [ 8.47092403e-01, -1.13266116e-01, -5.05834331e-01],\n",
       "       [ 8.47092403e-01, -3.83756235e-01, -5.05834331e-01],\n",
       "       [-3.43631824e-01,  4.12996658e-02, -2.37683974e-01],\n",
       "       [-1.53435605e+00, -8.08812136e-01,  4.77331111e+00],\n",
       "       [-1.53435605e+00,  8.14128577e-01, -9.85191158e-02],\n",
       "       [ 8.47092403e-01,  3.50431230e-01, -5.38016516e-01],\n",
       "       [-3.43631824e-01, -1.13266116e-01, -3.60888192e-01],\n",
       "       [ 8.47092403e-01, -1.13266116e-01, -1.72458212e-01],\n",
       "       [ 8.47092403e-01, -1.58164105e+00, -3.43287590e-01],\n",
       "       [-3.43631824e-01, -2.67831899e-01, -1.34151018e-01],\n",
       "       [ 8.47092403e-01, -1.04066081e+00, -5.11528644e-01],\n",
       "       [-3.43631824e-01,  1.27782592e+00, -1.34151018e-01],\n",
       "       [-1.53435605e+00, -6.54246354e-01,  9.41728263e-01],\n",
       "       [-1.53435605e+00,  9.68694359e-01,  4.03874479e+00],\n",
       "       [ 8.47092403e-01,  2.59163507e+00, -4.73997947e-01],\n",
       "       [-3.43631824e-01,  3.50431230e-01, -4.55103183e-01],\n",
       "       [-1.53435605e+00, -8.86095027e-01,  1.58242540e+00],\n",
       "       [-1.53435605e+00, -1.13266116e-01, -6.72522391e-01],\n",
       "       [ 8.47092403e-01, -8.08812136e-01, -5.09027288e-01],\n",
       "       [-3.43631824e-01, -2.04533839e+00, -1.34151018e-01],\n",
       "       [-1.53435605e+00,  1.12326014e+00,  5.28029205e-01],\n",
       "       [ 8.47092403e-01, -1.58164105e+00, -9.48084947e-02],\n",
       "       [ 8.47092403e-01, -1.13266116e-01, -5.22830301e-01],\n",
       "       [-3.43631824e-01, -4.22397681e-01, -3.72276818e-01],\n",
       "       [ 8.47092403e-01, -1.04066081e+00,  1.49270450e-01],\n",
       "       [-1.53435605e+00,  2.35978640e+00, -1.22762393e-01],\n",
       "       [-1.53435605e+00, -1.90549007e-01,  9.16277792e-01],\n",
       "       [ 8.47092403e-01, -1.19522659e+00,  2.98616739e-01],\n",
       "       [-3.43631824e-01,  1.89608905e+00, -1.34151018e-01],\n",
       "       [ 8.47092403e-01, -8.08812136e-01, -5.14116968e-01],\n",
       "       [ 8.47092403e-01, -8.86095027e-01, -5.09888682e-01],\n",
       "       [ 8.47092403e-01, -3.59832253e-02, -4.55879680e-01],\n",
       "       [ 8.47092403e-01,  4.27714121e-01, -2.53213918e-01],\n",
       "       [-3.43631824e-01, -1.13266116e-01, -4.10584012e-01],\n",
       "       [ 8.47092403e-01,  8.91411468e-01,  1.49270450e-01],\n",
       "       [-3.43631824e-01, -3.45114790e-01, -1.34151018e-01],\n",
       "       [ 8.47092403e-01, -1.13266116e-01, -3.51570226e-01],\n",
       "       [ 8.47092403e-01,  1.43239171e+00, -5.09888682e-01],\n",
       "       [-1.53435605e+00, -5.76963463e-01,  4.66340129e-01],\n",
       "       [ 8.47092403e-01,  1.95865448e-01,  4.97313048e-01],\n",
       "       [ 8.47092403e-01, -1.13266116e-01, -5.05834331e-01],\n",
       "       [-1.53435605e+00,  5.04997012e-01,  1.81226856e+00],\n",
       "       [-3.43631824e-01, -1.13266116e-01, -4.03336705e-01],\n",
       "       [ 8.47092403e-01, -4.22397681e-01, -3.44322919e-01],\n",
       "       [-1.53435605e+00, -8.86095027e-01,  4.03874479e+00],\n",
       "       [ 8.47092403e-01,  8.14128577e-01, -5.09027288e-01],\n",
       "       [-3.43631824e-01,  1.20054303e+00, -1.28974370e-01],\n",
       "       [ 8.47092403e-01, -1.13266116e-01,  4.97313048e-01],\n",
       "       [ 8.47092403e-01, -1.13266116e-01, -4.97379830e-01],\n",
       "       [ 8.47092403e-01, -7.31529245e-01, -4.93151544e-01],\n",
       "       [-1.53435605e+00,  6.59562795e-01, -6.72522391e-01],\n",
       "       [ 8.47092403e-01,  2.73148339e-01, -4.93323409e-01],\n",
       "       [-1.53435605e+00,  2.20522062e+00, -5.75366304e-02],\n",
       "       [ 8.47092403e-01, -1.13266116e-01, -5.22917269e-01],\n",
       "       [ 8.47092403e-01, -3.45114790e-01, -5.11528644e-01],\n",
       "       [-3.43631824e-01, -1.13266116e-01, -6.72522391e-01],\n",
       "       [-3.43631824e-01,  1.66424038e+00, -4.13172335e-01],\n",
       "       [ 8.47092403e-01, -6.54246354e-01, -5.12046309e-01],\n",
       "       [ 8.47092403e-01, -6.54246354e-01, -5.05834331e-01],\n",
       "       [ 8.47092403e-01, -3.45114790e-01, -5.26540923e-01],\n",
       "       [ 8.47092403e-01, -7.31529245e-01, -4.69080132e-01],\n",
       "       [-1.53435605e+00,  2.66891796e+00, -1.34151018e-01],\n",
       "       [ 8.47092403e-01, -6.54246354e-01, -5.05834331e-01],\n",
       "       [ 8.47092403e-01, -1.13266116e-01, -5.12046309e-01],\n",
       "       [ 8.47092403e-01,  8.14128577e-01, -4.76327439e-01],\n",
       "       [-3.43631824e-01,  1.12326014e+00, -1.34151018e-01],\n",
       "       [-3.43631824e-01, -4.99680572e-01, -4.03336705e-01],\n",
       "       [-3.43631824e-01, -1.13266116e-01, -4.03336705e-01],\n",
       "       [-1.53435605e+00,  2.73148339e-01,  1.19107082e+00],\n",
       "       [ 8.47092403e-01, -1.13266116e-01, -5.05834331e-01],\n",
       "       [ 8.47092403e-01, -8.86095027e-01, -5.32752900e-01],\n",
       "       [-3.43631824e-01, -1.13266116e-01,  1.07951208e-02],\n",
       "       [ 8.47092403e-01, -4.22397681e-01, -4.89269058e-01],\n",
       "       [-3.43631824e-01,  4.12996658e-02, -4.03336705e-01],\n",
       "       [-3.43631824e-01,  9.68694359e-01, -1.34151018e-01],\n",
       "       [-1.53435605e+00,  1.58695749e+00,  4.45278965e+00],\n",
       "       [ 8.47092403e-01, -1.13266116e-01, -4.93151544e-01],\n",
       "       [-1.53435605e+00,  1.20054303e+00,  1.05596032e+00],\n",
       "       [ 8.47092403e-01,  4.12996658e-02, -4.14207665e-01],\n",
       "       [ 8.47092403e-01,  5.82279903e-01, -4.73997947e-01],\n",
       "       [ 8.47092403e-01, -3.59832253e-02, -5.11528644e-01],\n",
       "       [-3.43631824e-01, -9.63377918e-01, -4.24043296e-01],\n",
       "       [-3.43631824e-01, -2.67831899e-01, -4.55103183e-01],\n",
       "       [ 8.47092403e-01,  1.20054303e+00, -3.73225180e-01],\n",
       "       [-3.43631824e-01,  2.51435218e+00, -4.55103183e-01],\n",
       "       [ 8.47092403e-01, -1.13266116e-01, -5.12046309e-01],\n",
       "       [ 8.47092403e-01, -2.21922490e+00, -2.73748644e-01],\n",
       "       [ 8.47092403e-01, -1.13266116e-01, -5.09027288e-01],\n",
       "       [ 8.47092403e-01, -7.31529245e-01, -5.22830301e-01],\n",
       "       [-1.53435605e+00,  1.89608905e+00,  5.57449130e-01],\n",
       "       [ 8.47092403e-01,  2.73148339e-01, -3.44322919e-01],\n",
       "       [ 8.47092403e-01, -1.11794370e+00, -5.22830301e-01],\n",
       "       [ 8.47092403e-01, -3.45114790e-01, -5.14116968e-01],\n",
       "       [ 8.47092403e-01,  1.66424038e+00, -5.26453955e-01],\n",
       "       [ 8.47092403e-01, -5.76963463e-01, -5.11097947e-01],\n",
       "       [ 8.47092403e-01, -4.22397681e-01, -5.09027288e-01],\n",
       "       [ 8.47092403e-01, -9.63377918e-01, -4.93151544e-01],\n",
       "       [ 8.47092403e-01,  1.66424038e+00, -5.05834331e-01],\n",
       "       [-1.53435605e+00,  6.59562795e-01,  8.03511766e-01],\n",
       "       [ 8.47092403e-01, -1.13266116e-01, -5.22399604e-01],\n",
       "       [ 8.47092403e-01, -1.13266116e-01, -3.72276818e-01],\n",
       "       [ 8.47092403e-01, -1.27250948e+00, -5.22830301e-01],\n",
       "       [ 8.47092403e-01, -1.13266116e-01, -5.05834331e-01],\n",
       "       [-1.53435605e+00,  1.18582557e-01,  1.67301673e+00],\n",
       "       [ 8.47092403e-01, -4.99680572e-01, -5.09888682e-01],\n",
       "       [ 8.47092403e-01, -8.08812136e-01, -5.05834331e-01],\n",
       "       [ 8.47092403e-01, -1.13266116e-01, -3.56833842e-01],\n",
       "       [-3.43631824e-01,  1.18582557e-01, -4.55103183e-01],\n",
       "       [-3.43631824e-01,  1.18582557e-01,  9.37084535e-02],\n",
       "       [ 8.47092403e-01, -7.31529245e-01, -5.89437194e-01],\n",
       "       [ 8.47092403e-01, -6.54246354e-01, -5.22399604e-01],\n",
       "       [-1.53435605e+00,  1.23918448e+00, -8.23845399e-02],\n",
       "       [ 8.47092403e-01, -5.76963463e-01, -5.05834331e-01],\n",
       "       [ 8.47092403e-01, -1.13266116e-01, -5.09371017e-01],\n",
       "       [-3.43631824e-01, -1.13266116e-01, -6.72522391e-01],\n",
       "       [ 8.47092403e-01, -2.67831899e-01, -5.11528644e-01],\n",
       "       [-3.43631824e-01, -3.45114790e-01, -5.13246530e-02],\n",
       "       [ 8.47092403e-01, -6.54246354e-01, -4.69080132e-01],\n",
       "       [-1.53435605e+00,  1.18582557e-01,  4.04220355e-01],\n",
       "       [ 8.47092403e-01, -1.11794370e+00, -5.22917269e-01],\n",
       "       [ 8.47092403e-01, -1.13266116e-01, -5.12305141e-01],\n",
       "       [ 8.47092403e-01, -1.13266116e-01, -5.12046309e-01],\n",
       "       [-1.53435605e+00,  2.74620085e+00,  6.10855571e-01],\n",
       "       [ 8.47092403e-01, -1.13266116e-01, -5.05834331e-01],\n",
       "       [ 8.47092403e-01, -2.19990418e+00, -4.41989699e-01],\n",
       "       [-1.53435605e+00,  3.50431230e-01, -1.22762393e-01],\n",
       "       [ 8.47092403e-01,  1.50967460e+00, -6.72522391e-01],\n",
       "       [ 8.47092403e-01, -8.86095027e-01, -5.05834331e-01],\n",
       "       [ 8.47092403e-01, -1.13266116e-01, -3.73225180e-01],\n",
       "       [-3.43631824e-01,  3.13261531e+00, -4.55103183e-01],\n",
       "       [ 8.47092403e-01, -1.19522659e+00, -4.39745104e-01],\n",
       "       [ 8.47092403e-01, -8.08812136e-01, -5.05834331e-01],\n",
       "       [-3.43631824e-01,  4.12996658e-02, -1.75564201e-01],\n",
       "       [ 8.47092403e-01,  1.18582557e-01, -2.99803748e-01],\n",
       "       [ 8.47092403e-01,  1.95865448e-01, -4.99363522e-01],\n",
       "       [ 8.47092403e-01, -1.04066081e+00, -5.12392109e-01],\n",
       "       [ 8.47092403e-01,  1.58695749e+00, -5.05834331e-01],\n",
       "       [ 8.47092403e-01, -4.22397681e-01, -5.26540923e-01],\n",
       "       [-1.53435605e+00,  2.05065483e+00,  6.25615990e-02],\n",
       "       [ 8.47092403e-01, -1.73620683e+00,  1.49270450e-01],\n",
       "       [ 8.47092403e-01, -1.58164105e+00, -3.56833842e-01],\n",
       "       [-3.43631824e-01,  2.73148339e-01, -4.18348983e-01],\n",
       "       [ 8.47092403e-01, -8.08812136e-01, -5.09027288e-01],\n",
       "       [-3.43631824e-01,  2.34506894e-01, -4.98586264e-02],\n",
       "       [ 8.47092403e-01, -2.19990418e+00, -2.46484276e-01],\n",
       "       [ 8.47092403e-01,  1.20054303e+00, -9.48084947e-02],\n",
       "       [-1.53435605e+00, -1.13266116e-01,  1.62349278e+00],\n",
       "       [ 8.47092403e-01, -8.08812136e-01, -5.11528644e-01],\n",
       "       [-1.53435605e+00, -6.54246354e-01,  4.76036949e+00],\n",
       "       [ 8.47092403e-01, -1.96805550e+00, -3.26722317e-01],\n",
       "       [ 8.47092403e-01, -1.13266116e-01, -5.09027288e-01],\n",
       "       [ 8.47092403e-01, -9.63377918e-01, -5.08422655e-01],\n",
       "       [ 8.47092403e-01,  4.12996658e-02, -3.39146272e-01],\n",
       "       [ 8.47092403e-01, -5.76963463e-01, -5.22399604e-01],\n",
       "       [-3.43631824e-01,  1.20054303e+00, -3.92983409e-01],\n",
       "       [ 8.47092403e-01, -3.45114790e-01, -6.72522391e-01],\n",
       "       [ 8.47092403e-01, -8.86095027e-01, -2.53990415e-01],\n",
       "       [ 8.47092403e-01,  2.73148339e-01, -4.75809774e-01],\n",
       "       [-3.43631824e-01, -4.22397681e-01,  6.73406041e-01],\n",
       "       [ 8.47092403e-01, -2.67831899e-01, -5.08422655e-01],\n",
       "       [ 8.47092403e-01, -5.76963463e-01, -4.54757383e-01],\n",
       "       [-1.53435605e+00,  2.05065483e+00, -1.22762393e-01],\n",
       "       [ 8.47092403e-01, -1.13266116e-01, -3.44322919e-01],\n",
       "       [-1.53435605e+00,  4.27714121e-01,  9.93606895e+00],\n",
       "       [-3.43631824e-01, -1.81348972e+00,  1.07951208e-02],\n",
       "       [-3.43631824e-01,  8.91411468e-01, -2.68743861e-01],\n",
       "       [ 8.47092403e-01, -1.13266116e-01, -5.21105442e-01],\n",
       "       [ 8.47092403e-01, -1.13266116e-01, -5.22830301e-01],\n",
       "       [-1.53435605e+00,  1.74152327e+00,  1.26354389e+00],\n",
       "       [ 8.47092403e-01,  1.95865448e-01, -5.08422655e-01],\n",
       "       [-3.43631824e-01,  4.27714121e-01, -1.34151018e-01],\n",
       "       [-1.53435605e+00, -8.86095027e-01,  9.76757604e-01],\n",
       "       [ 8.47092403e-01, -1.13266116e-01, -3.56833842e-01],\n",
       "       [ 8.47092403e-01, -1.13266116e-01, -5.04022505e-01],\n",
       "       [ 8.47092403e-01, -1.13266116e-01, -5.09027288e-01],\n",
       "       [ 8.47092403e-01, -1.13266116e-01, -5.05834331e-01],\n",
       "       [ 8.47092403e-01, -1.90549007e-01, -4.14207665e-01],\n",
       "       [ 8.47092403e-01, -5.76963463e-01, -5.09027288e-01],\n",
       "       [ 8.47092403e-01, -1.04066081e+00, -2.99803748e-01],\n",
       "       [-1.53435605e+00,  1.50967460e+00,  1.62349278e+00],\n",
       "       [-3.43631824e-01, -1.13266116e-01, -6.72522391e-01],\n",
       "       [ 8.47092403e-01, -1.04066081e+00,  2.98616739e-01],\n",
       "       [ 8.47092403e-01, -8.86095027e-01, -3.03945067e-01],\n",
       "       [ 8.47092403e-01, -1.13266116e-01, -5.12046309e-01],\n",
       "       [ 8.47092403e-01,  1.20054303e+00, -5.05834331e-01],\n",
       "       [ 8.47092403e-01, -2.04533839e+00, -2.25942576e-02],\n",
       "       [ 8.47092403e-01,  3.17125676e+00, -5.12046309e-01],\n",
       "       [ 8.47092403e-01, -1.13266116e-01, -5.09027288e-01],\n",
       "       [ 8.47092403e-01, -1.13266116e-01, -2.23620058e-01],\n",
       "       [ 8.47092403e-01,  3.89072676e-01, -5.39223710e-01],\n",
       "       [-1.53435605e+00,  8.14128577e-01, -6.72522391e-01],\n",
       "       [ 8.47092403e-01, -1.13266116e-01, -3.51570226e-01],\n",
       "       [ 8.47092403e-01, -1.90549007e-01, -3.73225180e-01],\n",
       "       [ 8.47092403e-01, -8.86095027e-01, -5.17309924e-01],\n",
       "       [-1.53435605e+00, -1.13266116e-01, -9.85191158e-02],\n",
       "       [-1.53435605e+00,  1.66424038e+00, -1.22762393e-01],\n",
       "       [-1.53435605e+00,  1.50967460e+00,  9.16277792e-01],\n",
       "       [ 8.47092403e-01, -2.19990418e+00,  2.98616739e-01],\n",
       "       [-1.53435605e+00,  1.89608905e+00,  9.27838282e-01],\n",
       "       [ 8.47092403e-01, -1.13266116e-01, -3.73140283e-01],\n",
       "       [-3.43631824e-01, -1.65892394e+00,  8.84448380e-02],\n",
       "       [-1.53435605e+00, -4.22397681e-01,  4.45278965e+00],\n",
       "       [ 8.47092403e-01, -7.31529245e-01, -5.05834331e-01],\n",
       "       [ 8.47092403e-01,  4.12996658e-02, -5.05834331e-01],\n",
       "       [ 8.47092403e-01, -4.22397681e-01, -5.24642128e-01],\n",
       "       [ 8.47092403e-01, -1.13266116e-01, -5.10406347e-01],\n",
       "       [ 8.47092403e-01, -1.13266116e-01, -5.16187627e-01],\n",
       "       [ 8.47092403e-01, -3.45114790e-01, -5.22399604e-01],\n",
       "       [ 8.47092403e-01, -1.13266116e-01, -3.51570226e-01],\n",
       "       [-1.53435605e+00, -1.13266116e-01,  5.22083033e-02],\n",
       "       [-1.53435605e+00,  1.43239171e+00, -1.35617045e-01],\n",
       "       [ 8.47092403e-01,  3.44174687e+00, -5.11528644e-01],\n",
       "       [ 8.47092403e-01, -4.99680572e-01, -5.09027288e-01],\n",
       "       [ 8.47092403e-01, -9.63377918e-01, -5.22830301e-01],\n",
       "       [ 8.47092403e-01, -1.13266116e-01, -1.45193843e-01],\n",
       "       [-3.43631824e-01,  1.74152327e+00, -3.92983409e-01],\n",
       "       [-1.53435605e+00, -1.13266116e-01,  4.04220355e-01],\n",
       "       [-3.43631824e-01, -1.13266116e-01, -4.03336705e-01],\n",
       "       [-3.43631824e-01,  3.50431230e-01, -2.37683974e-01],\n",
       "       [ 8.47092403e-01, -1.13266116e-01, -2.09558212e-01],\n",
       "       [-3.43631824e-01,  3.50431230e-01,  4.41825154e-04],\n",
       "       [-3.43631824e-01, -4.22397681e-01, -4.03336705e-01]])"
      ]
     },
     "execution_count": 12,
     "metadata": {},
     "output_type": "execute_result"
    }
   ],
   "source": [
    "xtest_scaled=scaler.transform(xtest)\n",
    "xtest_scaled"
   ]
  },
  {
   "cell_type": "code",
   "execution_count": 13,
   "metadata": {},
   "outputs": [
    {
     "name": "stderr",
     "output_type": "stream",
     "text": [
      "G:\\ANACONDA_INSTALLATION\\lib\\site-packages\\sklearn\\linear_model\\least_angle.py:35: DeprecationWarning: `np.float` is a deprecated alias for the builtin `float`. To silence this warning, use `float` by itself. Doing this will not modify any behavior and is safe. If you specifically wanted the numpy scalar type, use `np.float64` here.\n",
      "Deprecated in NumPy 1.20; for more details and guidance: https://numpy.org/devdocs/release/1.20.0-notes.html#deprecations\n",
      "  eps=np.finfo(np.float).eps,\n",
      "G:\\ANACONDA_INSTALLATION\\lib\\site-packages\\sklearn\\linear_model\\least_angle.py:597: DeprecationWarning: `np.float` is a deprecated alias for the builtin `float`. To silence this warning, use `float` by itself. Doing this will not modify any behavior and is safe. If you specifically wanted the numpy scalar type, use `np.float64` here.\n",
      "Deprecated in NumPy 1.20; for more details and guidance: https://numpy.org/devdocs/release/1.20.0-notes.html#deprecations\n",
      "  eps=np.finfo(np.float).eps, copy_X=True, fit_path=True,\n",
      "G:\\ANACONDA_INSTALLATION\\lib\\site-packages\\sklearn\\linear_model\\least_angle.py:836: DeprecationWarning: `np.float` is a deprecated alias for the builtin `float`. To silence this warning, use `float` by itself. Doing this will not modify any behavior and is safe. If you specifically wanted the numpy scalar type, use `np.float64` here.\n",
      "Deprecated in NumPy 1.20; for more details and guidance: https://numpy.org/devdocs/release/1.20.0-notes.html#deprecations\n",
      "  eps=np.finfo(np.float).eps, copy_X=True, fit_path=True,\n",
      "G:\\ANACONDA_INSTALLATION\\lib\\site-packages\\sklearn\\linear_model\\least_angle.py:862: DeprecationWarning: `np.float` is a deprecated alias for the builtin `float`. To silence this warning, use `float` by itself. Doing this will not modify any behavior and is safe. If you specifically wanted the numpy scalar type, use `np.float64` here.\n",
      "Deprecated in NumPy 1.20; for more details and guidance: https://numpy.org/devdocs/release/1.20.0-notes.html#deprecations\n",
      "  eps=np.finfo(np.float).eps, positive=False):\n",
      "G:\\ANACONDA_INSTALLATION\\lib\\site-packages\\sklearn\\linear_model\\least_angle.py:1097: DeprecationWarning: `np.float` is a deprecated alias for the builtin `float`. To silence this warning, use `float` by itself. Doing this will not modify any behavior and is safe. If you specifically wanted the numpy scalar type, use `np.float64` here.\n",
      "Deprecated in NumPy 1.20; for more details and guidance: https://numpy.org/devdocs/release/1.20.0-notes.html#deprecations\n",
      "  max_n_alphas=1000, n_jobs=None, eps=np.finfo(np.float).eps,\n",
      "G:\\ANACONDA_INSTALLATION\\lib\\site-packages\\sklearn\\linear_model\\least_angle.py:1344: DeprecationWarning: `np.float` is a deprecated alias for the builtin `float`. To silence this warning, use `float` by itself. Doing this will not modify any behavior and is safe. If you specifically wanted the numpy scalar type, use `np.float64` here.\n",
      "Deprecated in NumPy 1.20; for more details and guidance: https://numpy.org/devdocs/release/1.20.0-notes.html#deprecations\n",
      "  max_n_alphas=1000, n_jobs=None, eps=np.finfo(np.float).eps,\n",
      "G:\\ANACONDA_INSTALLATION\\lib\\site-packages\\sklearn\\linear_model\\least_angle.py:1480: DeprecationWarning: `np.float` is a deprecated alias for the builtin `float`. To silence this warning, use `float` by itself. Doing this will not modify any behavior and is safe. If you specifically wanted the numpy scalar type, use `np.float64` here.\n",
      "Deprecated in NumPy 1.20; for more details and guidance: https://numpy.org/devdocs/release/1.20.0-notes.html#deprecations\n",
      "  eps=np.finfo(np.float).eps, copy_X=True, positive=False):\n",
      "G:\\ANACONDA_INSTALLATION\\lib\\site-packages\\sklearn\\linear_model\\randomized_l1.py:152: DeprecationWarning: `np.float` is a deprecated alias for the builtin `float`. To silence this warning, use `float` by itself. Doing this will not modify any behavior and is safe. If you specifically wanted the numpy scalar type, use `np.float64` here.\n",
      "Deprecated in NumPy 1.20; for more details and guidance: https://numpy.org/devdocs/release/1.20.0-notes.html#deprecations\n",
      "  precompute=False, eps=np.finfo(np.float).eps,\n",
      "G:\\ANACONDA_INSTALLATION\\lib\\site-packages\\sklearn\\linear_model\\randomized_l1.py:320: DeprecationWarning: `np.float` is a deprecated alias for the builtin `float`. To silence this warning, use `float` by itself. Doing this will not modify any behavior and is safe. If you specifically wanted the numpy scalar type, use `np.float64` here.\n",
      "Deprecated in NumPy 1.20; for more details and guidance: https://numpy.org/devdocs/release/1.20.0-notes.html#deprecations\n",
      "  eps=np.finfo(np.float).eps, random_state=None,\n",
      "G:\\ANACONDA_INSTALLATION\\lib\\site-packages\\sklearn\\linear_model\\randomized_l1.py:580: DeprecationWarning: `np.float` is a deprecated alias for the builtin `float`. To silence this warning, use `float` by itself. Doing this will not modify any behavior and is safe. If you specifically wanted the numpy scalar type, use `np.float64` here.\n",
      "Deprecated in NumPy 1.20; for more details and guidance: https://numpy.org/devdocs/release/1.20.0-notes.html#deprecations\n",
      "  eps=4 * np.finfo(np.float).eps, n_jobs=None,\n",
      "G:\\ANACONDA_INSTALLATION\\lib\\site-packages\\sklearn\\linear_model\\logistic.py:433: FutureWarning: Default solver will be changed to 'lbfgs' in 0.22. Specify a solver to silence this warning.\n",
      "  FutureWarning)\n"
     ]
    },
    {
     "name": "stdout",
     "output_type": "stream",
     "text": [
      "[[162  22]\n",
      " [ 65  46]]\n"
     ]
    },
    {
     "name": "stderr",
     "output_type": "stream",
     "text": [
      "G:\\ANACONDA_INSTALLATION\\lib\\site-packages\\sklearn\\linear_model\\base.py:283: DeprecationWarning: `np.int` is a deprecated alias for the builtin `int`. To silence this warning, use `int` by itself. Doing this will not modify any behavior and is safe. When replacing `np.int`, you may wish to use e.g. `np.int64` or `np.int32` to specify the precision. If you wish to review your current use, check the release note link for additional information.\n",
      "Deprecated in NumPy 1.20; for more details and guidance: https://numpy.org/devdocs/release/1.20.0-notes.html#deprecations\n",
      "  indices = (scores > 0).astype(np.int)\n"
     ]
    },
    {
     "data": {
      "text/plain": [
       "0.7050847457627119"
      ]
     },
     "execution_count": 13,
     "metadata": {},
     "output_type": "execute_result"
    }
   ],
   "source": [
    "from sklearn.linear_model import LogisticRegression\n",
    "classification=LogisticRegression()\n",
    "classification.fit(xtrain_scaled,ytrain)\n",
    "prediction=classification.predict(xtest_scaled)\n",
    "from sklearn.metrics import confusion_matrix\n",
    "accuracy=confusion_matrix(ytest,prediction)\n",
    "print(accuracy)\n",
    "from sklearn.metrics import accuracy_score\n",
    "accuracy=accuracy_score(ytest,prediction)\n",
    "accuracy"
   ]
  },
  {
   "cell_type": "markdown",
   "metadata": {},
   "source": [
    "# MIN MAX SCALING"
   ]
  },
  {
   "cell_type": "markdown",
   "metadata": {},
   "source": [
    "# MIN MAX SCALING MAINLY USED FOR DEEP LEARNING TECHNIQUES\n",
    "SCALED BETWEEN 0 TO 1  XSCALED= (X-XMIN)/(XMAX-XMIN)"
   ]
  },
  {
   "cell_type": "code",
   "execution_count": 14,
   "metadata": {},
   "outputs": [
    {
     "name": "stderr",
     "output_type": "stream",
     "text": [
      "G:\\ANACONDA_INSTALLATION\\lib\\site-packages\\sklearn\\preprocessing\\data.py:334: DataConversionWarning: Data with input dtype int64, float64 were all converted to float64 by MinMaxScaler.\n",
      "  return self.partial_fit(X, y)\n"
     ]
    },
    {
     "data": {
      "text/html": [
       "<div>\n",
       "<style scoped>\n",
       "    .dataframe tbody tr th:only-of-type {\n",
       "        vertical-align: middle;\n",
       "    }\n",
       "\n",
       "    .dataframe tbody tr th {\n",
       "        vertical-align: top;\n",
       "    }\n",
       "\n",
       "    .dataframe thead th {\n",
       "        text-align: right;\n",
       "    }\n",
       "</style>\n",
       "<table border=\"1\" class=\"dataframe\">\n",
       "  <thead>\n",
       "    <tr style=\"text-align: right;\">\n",
       "      <th></th>\n",
       "      <th>Survived</th>\n",
       "      <th>Pclass</th>\n",
       "      <th>Age</th>\n",
       "      <th>Fare</th>\n",
       "    </tr>\n",
       "  </thead>\n",
       "  <tbody>\n",
       "    <tr>\n",
       "      <th>0</th>\n",
       "      <td>0.0</td>\n",
       "      <td>1.0</td>\n",
       "      <td>0.271174</td>\n",
       "      <td>0.014151</td>\n",
       "    </tr>\n",
       "    <tr>\n",
       "      <th>1</th>\n",
       "      <td>1.0</td>\n",
       "      <td>0.0</td>\n",
       "      <td>0.472229</td>\n",
       "      <td>0.139136</td>\n",
       "    </tr>\n",
       "    <tr>\n",
       "      <th>2</th>\n",
       "      <td>1.0</td>\n",
       "      <td>1.0</td>\n",
       "      <td>0.321438</td>\n",
       "      <td>0.015469</td>\n",
       "    </tr>\n",
       "    <tr>\n",
       "      <th>3</th>\n",
       "      <td>1.0</td>\n",
       "      <td>0.0</td>\n",
       "      <td>0.434531</td>\n",
       "      <td>0.103644</td>\n",
       "    </tr>\n",
       "    <tr>\n",
       "      <th>4</th>\n",
       "      <td>0.0</td>\n",
       "      <td>1.0</td>\n",
       "      <td>0.434531</td>\n",
       "      <td>0.015713</td>\n",
       "    </tr>\n",
       "  </tbody>\n",
       "</table>\n",
       "</div>"
      ],
      "text/plain": [
       "   Survived  Pclass       Age      Fare\n",
       "0       0.0     1.0  0.271174  0.014151\n",
       "1       1.0     0.0  0.472229  0.139136\n",
       "2       1.0     1.0  0.321438  0.015469\n",
       "3       1.0     0.0  0.434531  0.103644\n",
       "4       0.0     1.0  0.434531  0.015713"
      ]
     },
     "execution_count": 14,
     "metadata": {},
     "output_type": "execute_result"
    }
   ],
   "source": [
    "from sklearn.preprocessing import MinMaxScaler \n",
    "min_max=MinMaxScaler()\n",
    "data_minmax=pd.DataFrame(min_max.fit_transform(data),columns=data.columns)\n",
    "data_minmax.head()\n"
   ]
  },
  {
   "cell_type": "code",
   "execution_count": 15,
   "metadata": {},
   "outputs": [],
   "source": [
    "x=data_minmax.iloc[:,1:]\n",
    "y=data_minmax.iloc[:,0]\n",
    "from sklearn.model_selection import train_test_split\n",
    "xtrain1,xtest1,ytrain1,ytest1=train_test_split(x,y,test_size=0.33,random_state=0)\n",
    "#xtrain,xtest,ytrain,ytest=train_test_split(x,y,test_size=0.33,random_state=0)"
   ]
  },
  {
   "cell_type": "code",
   "execution_count": 16,
   "metadata": {},
   "outputs": [
    {
     "name": "stdout",
     "output_type": "stream",
     "text": [
      "[[164  20]\n",
      " [ 64  47]]\n"
     ]
    },
    {
     "name": "stderr",
     "output_type": "stream",
     "text": [
      "G:\\ANACONDA_INSTALLATION\\lib\\site-packages\\sklearn\\linear_model\\logistic.py:433: FutureWarning: Default solver will be changed to 'lbfgs' in 0.22. Specify a solver to silence this warning.\n",
      "  FutureWarning)\n",
      "G:\\ANACONDA_INSTALLATION\\lib\\site-packages\\sklearn\\linear_model\\base.py:283: DeprecationWarning: `np.int` is a deprecated alias for the builtin `int`. To silence this warning, use `int` by itself. Doing this will not modify any behavior and is safe. When replacing `np.int`, you may wish to use e.g. `np.int64` or `np.int32` to specify the precision. If you wish to review your current use, check the release note link for additional information.\n",
      "Deprecated in NumPy 1.20; for more details and guidance: https://numpy.org/devdocs/release/1.20.0-notes.html#deprecations\n",
      "  indices = (scores > 0).astype(np.int)\n"
     ]
    },
    {
     "data": {
      "text/plain": [
       "0.7152542372881356"
      ]
     },
     "execution_count": 16,
     "metadata": {},
     "output_type": "execute_result"
    }
   ],
   "source": [
    "from sklearn.linear_model import LogisticRegression\n",
    "classification=LogisticRegression()\n",
    "classification.fit(xtrain1,ytrain1)\n",
    "prediction=classification.predict(xtest1)\n",
    "from sklearn.metrics import confusion_matrix\n",
    "accuracy=confusion_matrix(ytest1,prediction)\n",
    "print(accuracy)\n",
    "from sklearn.metrics import accuracy_score\n",
    "accuracy=accuracy_score(ytest1,prediction)\n",
    "accuracy"
   ]
  },
  {
   "cell_type": "markdown",
   "metadata": {},
   "source": [
    "# ROBUST SCALER"
   ]
  },
  {
   "cell_type": "markdown",
   "metadata": {},
   "source": [
    "ROBUST SCALER ARE ROBUST TO OUTLIERS. IT TRANSFORMS THE FEATURE BASED ON MEDIAN\n",
    "AND QUANTILES. THE SCALING IS UNEFFECTED BY  OUTLIERS PRESENT IN THE DATA\n",
    "XSCALED= X- Xmedian/IQR\n",
    "\n",
    "IQR = 75TH QUANTILE - 25TH QUANTILE\n",
    "\n"
   ]
  },
  {
   "cell_type": "code",
   "execution_count": 17,
   "metadata": {},
   "outputs": [],
   "source": [
    "xtrain1,xtest1,ytrain1,ytest1=train_test_split(x,y,test_size=0.33,random_state=0)\n",
    "from sklearn.preprocessing import RobustScaler\n",
    "scaler = RobustScaler()\n",
    "xtrainscaled=pd.DataFrame(scaler.fit_transform(xtrain1))\n",
    "xtestscaled=scaler.fit_transform(xtest1)\n"
   ]
  },
  {
   "cell_type": "code",
   "execution_count": 18,
   "metadata": {
    "scrolled": true
   },
   "outputs": [
    {
     "name": "stdout",
     "output_type": "stream",
     "text": [
      "[[152  32]\n",
      " [ 49  62]]\n"
     ]
    },
    {
     "name": "stderr",
     "output_type": "stream",
     "text": [
      "G:\\ANACONDA_INSTALLATION\\lib\\site-packages\\sklearn\\linear_model\\logistic.py:433: FutureWarning: Default solver will be changed to 'lbfgs' in 0.22. Specify a solver to silence this warning.\n",
      "  FutureWarning)\n",
      "G:\\ANACONDA_INSTALLATION\\lib\\site-packages\\sklearn\\linear_model\\base.py:283: DeprecationWarning: `np.int` is a deprecated alias for the builtin `int`. To silence this warning, use `int` by itself. Doing this will not modify any behavior and is safe. When replacing `np.int`, you may wish to use e.g. `np.int64` or `np.int32` to specify the precision. If you wish to review your current use, check the release note link for additional information.\n",
      "Deprecated in NumPy 1.20; for more details and guidance: https://numpy.org/devdocs/release/1.20.0-notes.html#deprecations\n",
      "  indices = (scores > 0).astype(np.int)\n"
     ]
    },
    {
     "data": {
      "text/plain": [
       "0.7254237288135593"
      ]
     },
     "execution_count": 18,
     "metadata": {},
     "output_type": "execute_result"
    }
   ],
   "source": [
    "from sklearn.linear_model import LogisticRegression\n",
    "classification=LogisticRegression()\n",
    "classification.fit(xtrainscaled,ytrain1)\n",
    "prediction=classification.predict(xtestscaled)\n",
    "from sklearn.metrics import confusion_matrix\n",
    "accuracy=confusion_matrix(ytest1,prediction)\n",
    "print(accuracy)\n",
    "from sklearn.metrics import accuracy_score\n",
    "accuracy=accuracy_score(ytest1,prediction)\n",
    "accuracy"
   ]
  },
  {
   "cell_type": "markdown",
   "metadata": {},
   "source": [
    "# GAUSSIAN TRANSFORMATION"
   ]
  },
  {
   "cell_type": "markdown",
   "metadata": {},
   "source": [
    "Machine learning algorithms such as Linear and Logistic regression assume \n",
    "that the features are normally distributed and gives better accurancy \n",
    "and Performance."
   ]
  },
  {
   "cell_type": "code",
   "execution_count": 20,
   "metadata": {},
   "outputs": [],
   "source": [
    "xtrain2,xtest2,ytrain2,ytest2=train_test_split(x,y,test_size=0.33,random_state=0)\n"
   ]
  },
  {
   "cell_type": "code",
   "execution_count": 22,
   "metadata": {},
   "outputs": [],
   "source": [
    "#Checking if data has gaussian distribution or normal distribution we will \n",
    "# use QQ plot\n",
    "import matplotlib.pyplot as plt\n",
    "#import scipy.stat as stat\n",
    "#import pylab\n",
    "def plt_data(df,feature):\n",
    "    plt.figure(figsize=(10,6))\n",
    "    plt.subplot(1,2,1)\n",
    "    df[feature].hist()\n",
    " #   plt.subplot(1,2,2)\n",
    " #   stat.probplot(df[feature],dist='norm',plot=pylab)\n",
    "    plt.show()"
   ]
  },
  {
   "cell_type": "code",
   "execution_count": 23,
   "metadata": {},
   "outputs": [
    {
     "data": {
      "image/png": "[encoded data removed]",
      "text/plain": [
       "<Figure size 720x432 with 1 Axes>"
      ]
     },
     "metadata": {
      "needs_background": "light"
     },
     "output_type": "display_data"
    }
   ],
   "source": [
    "plt_data(xtrain2,'Age')"
   ]
  },
  {
   "cell_type": "code",
   "execution_count": 26,
   "metadata": {},
   "outputs": [
    {
     "name": "stderr",
     "output_type": "stream",
     "text": [
      "G:\\ANACONDA_INSTALLATION\\lib\\site-packages\\ipykernel_launcher.py:2: SettingWithCopyWarning: \n",
      "A value is trying to be set on a copy of a slice from a DataFrame.\n",
      "Try using .loc[row_indexer,col_indexer] = value instead\n",
      "\n",
      "See the caveats in the documentation: https://pandas.pydata.org/pandas-docs/stable/user_guide/indexing.html#returning-a-view-versus-a-copy\n",
      "  \n"
     ]
    },
    {
     "data": {
      "image/png": "[encoded data removed]",
      "text/plain": [
       "<Figure size 720x360 with 1 Axes>"
      ]
     },
     "metadata": {
      "needs_background": "light"
     },
     "output_type": "display_data"
    }
   ],
   "source": [
    "import numpy as np\n",
    "xtrain2['Age']=np.log(xtrain2['Age'])\n",
    "plt.figure(figsize=(10,5))\n",
    "xtrain2['Age'].hist()\n",
    "plt.show()"
   ]
  },
  {
   "cell_type": "markdown",
   "metadata": {},
   "source": [
    "As observed above the LOGARTHIMIC TRANSFORMATION has made the let skewed\n",
    "So dont use the log transformation which skews the data to either Right or Left"
   ]
  },
  {
   "cell_type": "markdown",
   "metadata": {},
   "source": [
    "# OTHER TRANFORMATION  ARE\n",
    "#  RECIPROCAL TRANSFORMATION\n",
    "#  SQUAREROOT TRANSFORMATION\n",
    "#  EXPONENTIAL TRANSFORMATION\n",
    "#  BOXCOX TRANFORMATION"
   ]
  },
  {
   "cell_type": "code",
   "execution_count": null,
   "metadata": {},
   "outputs": [],
   "source": []
  }
 ],
 "metadata": {
  "kernelspec": {
   "display_name": "Python 3",
   "language": "python",
   "name": "python3"
  },
  "language_info": {
   "codemirror_mode": {
    "name": "ipython",
    "version": 3
   },
   "file_extension": ".py",
   "mimetype": "text/x-python",
   "name": "python",
   "nbconvert_exporter": "python",
   "pygments_lexer": "ipython3",
   "version": "3.7.3"
  }
 },
 "nbformat": 4,
 "nbformat_minor": 2
}
